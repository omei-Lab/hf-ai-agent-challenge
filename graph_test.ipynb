{
 "cells": [
  {
   "cell_type": "code",
   "execution_count": 43,
   "id": "91e3377a",
   "metadata": {},
   "outputs": [],
   "source": [
    "from typing import TypedDict, List, Dict, Any, Optional\n",
    "from typing import Optional\n",
    "\n",
    "class QAState(TypedDict):\n",
    "\n",
    "    # The question that user asks\n",
    "    question: str\n",
    "\n",
    "    # The question type (reverse, logic)\n",
    "    type: str\n",
    "\n",
    "    # The final answer\n",
    "    answer: Optional[str] = None"
   ]
  },
  {
   "cell_type": "code",
   "execution_count": 44,
   "id": "915ca585",
   "metadata": {},
   "outputs": [],
   "source": [
    "from langchain_community.llms import Ollama\n",
    "\n",
    "llm = Ollama(model=\"llama3\", temperature=0)"
   ]
  },
  {
   "cell_type": "code",
   "execution_count": null,
   "id": "38385ed2",
   "metadata": {},
   "outputs": [],
   "source": [
    "def read_question(state: QAState):\n",
    "\tprint(f\"Read question: \\n{state['question']}\")\n",
    "\n",
    "\treturn {}\n",
    "\n",
    "def answer_question(state: QAState):\n",
    "    prompt = f\"\"\"\n",
    "    Answer this question clearly and concisely. No explanation.\n",
    "\n",
    "    Question: {state['question']}\n",
    "    \"\"\"\n",
    "    response = llm.invoke(prompt)\n",
    "    return {\n",
    "        \"answer\": response\n",
    "\t}\n",
    "\n",
    "def classify_question_type(state: QAState) -> QAState:\n",
    "    prompt = f\"\"\"\n",
    "\tRead the question carefully and classify it into one of these types:\n",
    "\t- 'reverse': the question is written backwards or reversed.\n",
    "\t- 'logic': the question is a logic puzzle or involves logical reasoning.\n",
    "\t- 'others': the question did not belong to reverse nor logic categories.\n",
    "\n",
    "\tExamples:\n",
    "\tQ: \"If you write the word 'left' backwards, can you read this sentence?\"\n",
    "\tA: reverse\n",
    "\n",
    "\tQ: \"Given a set and an operation table, find counterexamples to commutativity.\"\n",
    "\tA: logic\n",
    "\n",
    "\tQ: \"How old is Bob?\"\n",
    "\tA: others\n",
    "\n",
    "\tYou just have to respond concisely with exactly one word from the above options.\n",
    "\n",
    "\tNow, classify this question:\n",
    "\n",
    "\tQuestion: {state['question']}\n",
    "\t\"\"\"\n",
    "\n",
    "    response = llm.invoke(prompt)\n",
    "    print(f\"The type is likely to be \\'{response}\\'\")\n",
    "    return {\n",
    "        \"type\": response\n",
    "\t}\n",
    "\n",
    "def route_by_type(state: QAState) -> str:\n",
    "    return state['type']\n",
    "\n",
    "def reverse_sentence(state: QAState) -> QAState:\n",
    "    return {\n",
    "        \"question\": state['question'][::-1]\n",
    "\t}\n",
    "\n",
    "def analyze_logic_node(state: dict):\n",
    "    \n",
    "\tdef extract_markdown_table(question: str) -> str:\n",
    "\t\tlines = question.strip().splitlines()\n",
    "\t\ttable_lines = [line for line in lines if \"|\" in line]\n",
    "\t\treturn \"\\n\".join(table_lines)\n",
    "    \n",
    "\tdef parse_table_markdown(markdown_table: str) -> dict[tuple[str, str], str]:\n",
    "\t\tlines = markdown_table.strip().splitlines()\n",
    "\t\theaders = lines[0].split(\"|\")[1:]  # skip first empty column\n",
    "\t\ttable = {}\n",
    "\t\tfor row in lines[2:]:  # skip header + --- line\n",
    "\t\t\tcells = row.split(\"|\")[1:]\n",
    "\t\t\trow_label = cells[0].strip()\n",
    "\t\t\tfor col_label, val in zip(headers[1:], cells[1:]):\n",
    "\t\t\t\ttable[(row_label.strip(), col_label.strip())] = val.strip()\n",
    "\t\treturn table\n",
    "\t\n",
    "\tdef find_commutativity_violations(table: dict[tuple[str, str], str]) -> set[str]:\n",
    "\t\telements = {a for a, _ in table.keys()}\n",
    "\t\tviolating = set()\n",
    "\t\tfor a in elements:\n",
    "\t\t\tfor b in elements:\n",
    "\t\t\t\tif table[(a, b)] != table[(b, a)]:\n",
    "\t\t\t\t\tviolating.update([a, b])\n",
    "\t\treturn sorted(violating)\n",
    "\n",
    "\ttable_md = extract_markdown_table(state[\"question\"])\n",
    "\tparsed_table = parse_table_markdown(table_md)\n",
    "\tviolating = find_commutativity_violations(parsed_table)\n",
    "\n",
    "\treturn {\n",
    "\t\t\"answer\": \",\".join(violating) if violating else \"None\"\n",
    "\t}\n"
   ]
  },
  {
   "cell_type": "code",
   "execution_count": null,
   "id": "1a470a8c",
   "metadata": {},
   "outputs": [],
   "source": [
    "from langgraph.graph import StateGraph, START, END\n",
    "\n",
    "builder = StateGraph(QAState)\n",
    "\n",
    "# add nodes\n",
    "builder.add_node(\"read\", read_question)\n",
    "builder.add_node(\"classify_type\", classify_question_type)\n",
    "builder.add_node(\"answering\", answer_question)\n",
    "builder.add_node(\"reverse\", reverse_sentence)\n",
    "builder.add_node(\"logic_table\", analyze_logic_node)\n",
    "\n",
    "# edges\n",
    "builder.add_edge(START, \"read\")\n",
    "builder.add_edge(\"read\", \"classify_type\")\n",
    "builder.add_edge(\"reverse\", \"answering\")\n",
    "builder.add_edge(\"answering\", END)\n",
    "builder.add_edge(\"logic_table\", END)\n",
    "\n",
    "# branching\n",
    "builder.add_conditional_edges(\n",
    "    \"classify_type\",\n",
    "    route_by_type,\n",
    "    {\n",
    "        \"reverse\": \"reverse\",\n",
    "        \"logic\": \"logic_table\",\n",
    "        \"others\": \"answering\"\n",
    "    }\n",
    ")\n",
    "\n",
    "# Compile graph\n",
    "graph = builder.compile()"
   ]
  },
  {
   "cell_type": "code",
   "execution_count": 77,
   "id": "200770a5",
   "metadata": {},
   "outputs": [
    {
     "data": {
      "image/png": "[encoded data removed]",
      "text/plain": [
       "<IPython.core.display.Image object>"
      ]
     },
     "metadata": {},
     "output_type": "display_data"
    }
   ],
   "source": [
    "from IPython.display import Image, display\n",
    "\n",
    "png_bytes = graph.get_graph().draw_mermaid_png()\n",
    "with open(\"graph.png\", \"wb\") as f:\n",
    "    f.write(png_bytes)\n",
    "\n",
    "display(Image(filename=\"graph.png\"))"
   ]
  },
  {
   "cell_type": "code",
   "execution_count": 78,
   "id": "2b7ef29a",
   "metadata": {},
   "outputs": [],
   "source": [
    "user_question = \"\"\"I'm making a grocery list for my mom, but she's a professor of botany and she's a real stickler when it comes to categorizing things. I need to add different foods to different categories on the grocery list, but if I make a mistake, she won't buy anything inserted in the wrong category. Here's the list I have so far:\n",
    "milk, eggs, flour, whole bean coffee, Oreos, sweet potatoes, fresh basil, plums, green beans, rice, corn, bell pepper, whole allspice, acorns, broccoli, celery, zucchini, lettuce, peanuts\n",
    "I need to make headings for the fruits and vegetables. Could you please create a list of just the vegetables from my list? If you could do that, then I can figure out how to categorize the rest of the list into the appropriate categories. But remember that my mom is a real stickler, so make sure that no botanical fruits end up on the vegetable list, or she won't get them when she's at the store. Please alphabetize the list of vegetables, and place each item in a comma separated list.\"\"\""
   ]
  },
  {
   "cell_type": "code",
   "execution_count": 79,
   "id": "a0415601",
   "metadata": {},
   "outputs": [
    {
     "name": "stdout",
     "output_type": "stream",
     "text": [
      "Read question: \n",
      "I'm making a grocery list for my mom, but she's a professor of botany and she's a real stickler when it comes to categorizing things. I need to add different foods to different categories on the grocery list, but if I make a mistake, she won't buy anything inserted in the wrong category. Here's the list I have so far:\n",
      "milk, eggs, flour, whole bean coffee, Oreos, sweet potatoes, fresh basil, plums, green beans, rice, corn, bell pepper, whole allspice, acorns, broccoli, celery, zucchini, lettuce, peanuts\n",
      "I need to make headings for the fruits and vegetables. Could you please create a list of just the vegetables from my list? If you could do that, then I can figure out how to categorize the rest of the list into the appropriate categories. But remember that my mom is a real stickler, so make sure that no botanical fruits end up on the vegetable list, or she won't get them when she's at the store. Please alphabetize the list of vegetables, and place each item in a comma separated list.\n",
      "The type is likely to be 'categorize'\n",
      "Final Answer: Here is the list of vegetables:\n",
      "\n",
      "broccoli, celery, green beans, lettuce, zucchini\n"
     ]
    }
   ],
   "source": [
    "state = graph.invoke({\"question\": user_question})\n",
    "print(\"Final Answer:\", state['answer'])"
   ]
  },
  {
   "cell_type": "code",
   "execution_count": null,
   "id": "49d9bb78",
   "metadata": {},
   "outputs": [],
   "source": []
  }
 ],
 "metadata": {
  "kernelspec": {
   "display_name": "Python 3",
   "language": "python",
   "name": "python3"
  },
  "language_info": {
   "codemirror_mode": {
    "name": "ipython",
    "version": 3
   },
   "file_extension": ".py",
   "mimetype": "text/x-python",
   "name": "python",
   "nbconvert_exporter": "python",
   "pygments_lexer": "ipython3",
   "version": "3.11.9"
  }
 },
 "nbformat": 4,
 "nbformat_minor": 5
}
